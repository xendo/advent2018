{
 "cells": [
  {
   "cell_type": "markdown",
   "metadata": {},
   "source": [
    "#### Reading assignments"
   ]
  },
  {
   "cell_type": "code",
   "execution_count": 1,
   "metadata": {},
   "outputs": [],
   "source": [
    "def Input(day):\n",
    "    \"Open this day's input file.\"\n",
    "    filename = 'input{}'.format(day)\n",
    "    return open(filename)"
   ]
  },
  {
   "cell_type": "markdown",
   "metadata": {},
   "source": [
    "### Day 1\n",
    "#### Part 1\n",
    "\n",
    "This is just a sum of all elements in the input"
   ]
  },
  {
   "cell_type": "code",
   "execution_count": 2,
   "metadata": {
    "scrolled": true
   },
   "outputs": [
    {
     "data": {
      "text/plain": [
       "477"
      ]
     },
     "execution_count": 2,
     "metadata": {},
     "output_type": "execute_result"
    }
   ],
   "source": [
    "def resulting_frequency(changes):\n",
    "    sum = 0\n",
    "    for change in changes:\n",
    "        sum += int(change)\n",
    "    return sum\n",
    "\n",
    "assert resulting_frequency([+1, -2, +3, +1]) == 3\n",
    "\n",
    "resulting_frequency(Input(1))"
   ]
  },
  {
   "cell_type": "markdown",
   "metadata": {},
   "source": [
    "#### Part 2\n",
    "\n",
    "In the second part I can just count the occurences of each frequency, but that doesn't seem to be optimal solution.\n",
    "\n",
    "**Notes**\n",
    "* there is a dedicated standard library function to cycle several times through array. Neat.\n"
   ]
  },
  {
   "cell_type": "code",
   "execution_count": 3,
   "metadata": {},
   "outputs": [
    {
     "data": {
      "text/plain": [
       "390"
      ]
     },
     "execution_count": 3,
     "metadata": {},
     "output_type": "execute_result"
    }
   ],
   "source": [
    "import itertools\n",
    "\n",
    "def first_repeated(changes):\n",
    "    seen = set()\n",
    "    sum = 0\n",
    "    for change in itertools.cycle(changes):\n",
    "        sum += int(change)\n",
    "        if sum in seen:\n",
    "            return sum\n",
    "        seen.add(sum)\n",
    "\n",
    "assert first_repeated([+1, -2, +3, +1]) == 2\n",
    "assert first_repeated([+1, -1]) == 1\n",
    "assert first_repeated([+3, +3, +4, -2, -4]) == 10\n",
    "\n",
    "first_repeated(Input(1))"
   ]
  },
  {
   "cell_type": "markdown",
   "metadata": {},
   "source": [
    "### Day 1\n",
    "#### Part 1\n",
    "Sum of number of groupings with lenght 2 and 3"
   ]
  },
  {
   "cell_type": "code",
   "execution_count": 54,
   "metadata": {},
   "outputs": [
    {
     "data": {
      "text/plain": [
       "5727"
      ]
     },
     "execution_count": 54,
     "metadata": {},
     "output_type": "execute_result"
    }
   ],
   "source": [
    "def checksum(ids):\n",
    "    doubles, triples = 0, 0\n",
    "    for id in ids:\n",
    "        groups = {len(list(g)) for k, g in itertools.groupby(sorted(id))}\n",
    "        doubles += int(2 in groups)\n",
    "        triples += int(3 in groups)\n",
    "    return doubles * triples \n",
    "            \n",
    "assert checksum(['abcdef', 'bababc', 'abbcde', 'abcccd', 'aabcdd', 'abcdee', 'ababab']) == 12  \n",
    "\n",
    "checksum(Input(2))"
   ]
  },
  {
   "cell_type": "code",
   "execution_count": null,
   "metadata": {},
   "outputs": [],
   "source": []
  }
 ],
 "metadata": {
  "kernelspec": {
   "display_name": "Python 3",
   "language": "python",
   "name": "python3"
  },
  "language_info": {
   "codemirror_mode": {
    "name": "ipython",
    "version": 3
   },
   "file_extension": ".py",
   "mimetype": "text/x-python",
   "name": "python",
   "nbconvert_exporter": "python",
   "pygments_lexer": "ipython3",
   "version": "3.7.0"
  }
 },
 "nbformat": 4,
 "nbformat_minor": 2
}
